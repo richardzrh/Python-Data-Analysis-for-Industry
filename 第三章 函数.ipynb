{
 "cells": [
  {
   "cell_type": "markdown",
   "metadata": {},
   "source": [
    "# 课程： Python分析工业大数据\n",
    "\n",
    "## 第三章 函数  \n",
    "* Defining Functions  \n",
    "* Variable Scope\n",
    "* Documentation\n",
    "* Lambda Expressions  \n",
    "* Iterators and Generators\n"
   ]
  },
  {
   "cell_type": "markdown",
   "metadata": {},
   "source": [
    "### 函数定义"
   ]
  },
  {
   "cell_type": "code",
   "execution_count": 2,
   "metadata": {},
   "outputs": [],
   "source": [
    "# 计算产线OEE(Overall Equipment Efficiency)\n",
    "def OEE(AL, OL, QL):\n",
    "    \"\"\"\n",
    "    AL: Availability Level可获性水平\n",
    "    OL: Operating Level运行水平\n",
    "    QL: Quality Level质量水平\n",
    "    \"\"\"\n",
    "    return AL*OL*QL"
   ]
  },
  {
   "cell_type": "code",
   "execution_count": 9,
   "metadata": {},
   "outputs": [
    {
     "name": "stdout",
     "output_type": "stream",
     "text": [
      "0.71\n"
     ]
    }
   ],
   "source": [
    "#调用函数\n",
    "print(round(OEE(0.9, 0.8, 0.99), 2))"
   ]
  },
  {
   "cell_type": "markdown",
   "metadata": {},
   "source": [
    "### Vairable Scope 变量范围"
   ]
  },
  {
   "cell_type": "code",
   "execution_count": 10,
   "metadata": {},
   "outputs": [
    {
     "name": "stdout",
     "output_type": "stream",
     "text": [
      "0.95\n"
     ]
    }
   ],
   "source": [
    "# global scope\n",
    "accepted_level = 0.95\n",
    "\n",
    "def one_function():\n",
    "    print(accepted_level)\n",
    "\n",
    "one_function()"
   ]
  },
  {
   "cell_type": "markdown",
   "metadata": {},
   "source": [
    "### Documentation 写文档"
   ]
  },
  {
   "cell_type": "code",
   "execution_count": 11,
   "metadata": {},
   "outputs": [],
   "source": [
    "def OEE(AL, OL, QL):\n",
    "    \"\"\"\n",
    "    Calculate line OEE(Overall Equipment Effeciency).\n",
    "    \n",
    "    INPUT:\n",
    "    AL: float. availability level 可获性水平\n",
    "    OL: float. operating level 运行水平\n",
    "    QL: float. quality level 质量水平\n",
    "    \n",
    "    OUTPUT:\n",
    "    OEE: AL*OL*QL\n",
    "    \"\"\"\n",
    "    return AL*OL*QL"
   ]
  },
  {
   "cell_type": "code",
   "execution_count": null,
   "metadata": {},
   "outputs": [],
   "source": [
    "# ToDO: 练习写一个正式的文档"
   ]
  },
  {
   "cell_type": "markdown",
   "metadata": {},
   "source": [
    "### Lambda Expressions, map"
   ]
  },
  {
   "cell_type": "code",
   "execution_count": 13,
   "metadata": {},
   "outputs": [
    {
     "data": {
      "text/plain": [
       "15"
      ]
     },
     "execution_count": 13,
     "metadata": {},
     "output_type": "execute_result"
    }
   ],
   "source": [
    "#简单的例子\n",
    "f_1 = lambda x, y: x*y\n",
    "\n",
    "f_1(3,5)"
   ]
  },
  {
   "cell_type": "code",
   "execution_count": 18,
   "metadata": {},
   "outputs": [],
   "source": [
    "# map函数： 将function作用于list上\n",
    "availability = [\n",
    "              [0.70, 0.55, 0.53, 0.66, 0.72],\n",
    "              [0.74, 0.77, 0.81, 0.85, 0.80],\n",
    "              [0.6, 0.59, 0.55, 0.63, 0.69],\n",
    "              [0.73, 0.71, 0.74, 0.70, 0.69]\n",
    "           ]\n",
    "\n",
    "list(map(mean,  availability))"
   ]
  },
  {
   "cell_type": "code",
   "execution_count": 30,
   "metadata": {},
   "outputs": [
    {
     "data": {
      "text/plain": [
       "[0.63, 0.79, 0.61, 0.71]"
      ]
     },
     "execution_count": 30,
     "metadata": {},
     "output_type": "execute_result"
    }
   ],
   "source": [
    "# map 和 Lambda的联合应用\n",
    "list(map(lambda x: round(mean(x), 2), availability))"
   ]
  },
  {
   "cell_type": "code",
   "execution_count": 34,
   "metadata": {},
   "outputs": [
    {
     "data": {
      "text/plain": [
       "['1', '2', '3', '4', '5']"
      ]
     },
     "execution_count": 34,
     "metadata": {},
     "output_type": "execute_result"
    }
   ],
   "source": [
    "# map的例子\n",
    "list(map(str, [1,2,3,4,5]))"
   ]
  },
  {
   "cell_type": "markdown",
   "metadata": {},
   "source": [
    "类似， 常用的函数：\n",
    "map(函数， 序列/list）;   \n",
    "apply用在dataframe上， 用于对row/column计算；   \n",
    "applymap用于dataframe上， 用于元素级别的操作。"
   ]
  },
  {
   "cell_type": "code",
   "execution_count": null,
   "metadata": {},
   "outputs": [],
   "source": [
    "# filter函数的使用\n",
    "cities = [\"New York City\", \"Los Angeles\", \"Chicago\", \"Mountain View\", \"Denver\", \"Boston\"]\n",
    "\n",
    "list(filter(lambda x: len(x)<10, cities))\n"
   ]
  },
  {
   "cell_type": "markdown",
   "metadata": {},
   "source": [
    "### Iterators and Generators 迭代与生成 \n",
    "generator function deliver iterator, which is iteratorable object"
   ]
  },
  {
   "cell_type": "code",
   "execution_count": 39,
   "metadata": {},
   "outputs": [],
   "source": [
    "# 用yield函数构造自己的生成函数，输出迭代\n",
    "def my_iterator(x):\n",
    "    i = 0\n",
    "    while i < x:\n",
    "        yield i\n",
    "        i += 1"
   ]
  },
  {
   "cell_type": "code",
   "execution_count": 41,
   "metadata": {},
   "outputs": [
    {
     "name": "stdout",
     "output_type": "stream",
     "text": [
      "0\n",
      "1\n",
      "4\n",
      "9\n",
      "16\n"
     ]
    }
   ],
   "source": [
    "#生成器的应用\n",
    "for i in my_iterator(5):\n",
    "    print(i**2)"
   ]
  },
  {
   "cell_type": "code",
   "execution_count": null,
   "metadata": {},
   "outputs": [],
   "source": []
  },
  {
   "cell_type": "code",
   "execution_count": null,
   "metadata": {},
   "outputs": [],
   "source": []
  }
 ],
 "metadata": {
  "kernelspec": {
   "display_name": "Python 3",
   "language": "python",
   "name": "python3"
  },
  "language_info": {
   "codemirror_mode": {
    "name": "ipython",
    "version": 3
   },
   "file_extension": ".py",
   "mimetype": "text/x-python",
   "name": "python",
   "nbconvert_exporter": "python",
   "pygments_lexer": "ipython3",
   "version": "3.7.0"
  }
 },
 "nbformat": 4,
 "nbformat_minor": 2
}
