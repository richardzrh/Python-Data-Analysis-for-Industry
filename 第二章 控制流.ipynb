{
 "cells": [
  {
   "cell_type": "markdown",
   "metadata": {},
   "source": [
    "# 课程： Python分析工业大数据\n",
    "\n",
    "## 第二章 控制流  \n",
    "* Conditional Statements  \n",
    "* Boolean Expressions\n",
    "* For and While Loops\n",
    "* Break and Continue  \n",
    "* Zip and Enumnerate  \n",
    "* List Comprehensions\n"
   ]
  },
  {
   "cell_type": "markdown",
   "metadata": {},
   "source": [
    "### Conditional Statement 条件语句"
   ]
  },
  {
   "cell_type": "code",
   "execution_count": 4,
   "metadata": {},
   "outputs": [],
   "source": [
    "customer_satisfaction_level = 0.9\n",
    "\n",
    "reward  = 0\n",
    "\n",
    "survey_result = 0.8\n",
    "\n",
    "if survey_result < customer_satisfaction_level:\n",
    "    reward -= 1\n",
    "elif survey_result == customer_satisfaction_level:\n",
    "    pass\n",
    "else: \n",
    "    reward += 1\n",
    "  "
   ]
  },
  {
   "cell_type": "markdown",
   "metadata": {},
   "source": [
    "### Boolean Expressions 布尔表达"
   ]
  },
  {
   "cell_type": "code",
   "execution_count": 2,
   "metadata": {},
   "outputs": [],
   "source": [
    "# create a production preparation process checklist\n",
    "PPP_checklist = {'material prep': ['Y', 'N', 'Y'],\n",
    "                'tool prep': ['Delayed',' Ontime', 'Ontime'],\n",
    "                'machine state': ['Green', 'Green', 'Green']}"
   ]
  },
  {
   "cell_type": "code",
   "execution_count": 8,
   "metadata": {},
   "outputs": [],
   "source": [
    "# ToDo: 只有当物料准备、工具准备和设备状态均处于一致良好， 才能启动生产\n",
    "#          计算PPP的绩效\n",
    "\n",
    "#生产信号默认为False\n",
    "signal = False\n",
    "\n"
   ]
  },
  {
   "cell_type": "code",
   "execution_count": 17,
   "metadata": {},
   "outputs": [],
   "source": []
  },
  {
   "cell_type": "code",
   "execution_count": null,
   "metadata": {},
   "outputs": [],
   "source": []
  },
  {
   "cell_type": "code",
   "execution_count": 10,
   "metadata": {},
   "outputs": [
    {
     "name": "stdout",
     "output_type": "stream",
     "text": [
      "The line has 2 failures to be counted.\n"
     ]
    }
   ],
   "source": [
    "# 另一个例子， \n",
    "failures = 2\n",
    "\n",
    "if failures  :\n",
    "    print(\"The line has {} failures to be counted.\".format(failures))\n",
    "else:\n",
    "    print(\"The line is in perfect conditions!\")"
   ]
  },
  {
   "cell_type": "markdown",
   "metadata": {},
   "source": [
    "### For and While Loops 循环"
   ]
  },
  {
   "cell_type": "code",
   "execution_count": null,
   "metadata": {},
   "outputs": [],
   "source": [
    "# 第一个例子\n",
    "vehicles = ['sedan car', 'SUV', 'MPV']\n",
    "for vehicle in vehicles:\n",
    "    print(vevhine)\n",
    "print(\"Done!\")\n",
    "\n",
    "# ToDo: 设计一个简单的循环语句\n"
   ]
  },
  {
   "cell_type": "code",
   "execution_count": 11,
   "metadata": {},
   "outputs": [
    {
     "name": "stdout",
     "output_type": "stream",
     "text": [
      "Pass\n",
      "Pass\n",
      "Pass\n",
      "Pass\n"
     ]
    }
   ],
   "source": [
    "# 第二个例子\n",
    "for i in range(4):\n",
    "    print('Pass')\n",
    "\n",
    "# ToDo: 设计一个自己的例子\n"
   ]
  },
  {
   "cell_type": "markdown",
   "metadata": {},
   "source": [
    "### Build counting Dictionary 构造统计字典"
   ]
  },
  {
   "cell_type": "code",
   "execution_count": 20,
   "metadata": {},
   "outputs": [],
   "source": [
    "# 缺陷类型的原始统计表，用list存储\n",
    "total_defects = ['磨损', '褪色', '掉漆', '老化', '老化', '磨损', '掉漆', \n",
    "                 '老化', '磨损', '老化', '掉漆', '磨损', '磨损', '褪色', '掉漆']\n",
    "#建立一个用于统计的空字典\n",
    "stat_defects = {}\n",
    "\n",
    "for defect in total_defects:\n",
    "    stat_defects[defect] = stat_defects.get(defect, 0) + 1\n"
   ]
  },
  {
   "cell_type": "code",
   "execution_count": 22,
   "metadata": {},
   "outputs": [],
   "source": [
    "# ToDo: 设计一个你工作上的例子\n"
   ]
  },
  {
   "cell_type": "markdown",
   "metadata": {},
   "source": [
    "### Iterating Through Dictionaries with for loops   \n",
    "字典的for循环"
   ]
  },
  {
   "cell_type": "code",
   "execution_count": 31,
   "metadata": {},
   "outputs": [],
   "source": [
    "for key in stat_defects:\n",
    "    print(key)"
   ]
  },
  {
   "cell_type": "code",
   "execution_count": 33,
   "metadata": {},
   "outputs": [
    {
     "name": "stdout",
     "output_type": "stream",
     "text": [
      "缺陷:  磨损         数量:  5\n",
      "缺陷:  褪色         数量:  2\n",
      "缺陷:  掉漆         数量:  4\n",
      "缺陷:  老化         数量:  4\n"
     ]
    }
   ],
   "source": [
    "for key, value in stat_defects.items():\n",
    "    print(\"缺陷:  {}         数量:  {}\".format(key, value))"
   ]
  },
  {
   "cell_type": "code",
   "execution_count": null,
   "metadata": {},
   "outputs": [],
   "source": [
    "# ToDo: 接上面的例子， 设计一个循环的例子\n"
   ]
  },
  {
   "cell_type": "markdown",
   "metadata": {},
   "source": [
    "### While Loops & Break and Continue 中断与继续"
   ]
  },
  {
   "cell_type": "code",
   "execution_count": 37,
   "metadata": {},
   "outputs": [],
   "source": [
    "# 建立质量历史记录\n",
    "quality_record = ['G', 'G', 'NG', 'G', 'G', 'NG', 'G', 'G', 'G', 'G']\n",
    "\n",
    "accepted_level = 2\n",
    "defects = 0\n",
    "i = 0"
   ]
  },
  {
   "cell_type": "code",
   "execution_count": 41,
   "metadata": {},
   "outputs": [],
   "source": [
    "while i <= len(quality_record)-1:\n",
    "    if quality_record[i] == 'NG':\n",
    "        defects += 1\n",
    "    if defects > accepted_level:\n",
    "        print(\"Quality Alarm!\")\n",
    "        break\n",
    "    i+=1\n",
    "        "
   ]
  },
  {
   "cell_type": "markdown",
   "metadata": {},
   "source": [
    "### 用Zip and Enumerate帮助构建Loop"
   ]
  },
  {
   "cell_type": "code",
   "execution_count": 44,
   "metadata": {},
   "outputs": [
    {
     "data": {
      "text/plain": [
       "[('a', 1), ('b', 2), ('c', 3)]"
      ]
     },
     "execution_count": 44,
     "metadata": {},
     "output_type": "execute_result"
    }
   ],
   "source": [
    "# 例如\n",
    "list(zip(['a', 'b', 'c'], [1,2,3]))"
   ]
  },
  {
   "cell_type": "code",
   "execution_count": 45,
   "metadata": {},
   "outputs": [
    {
     "name": "stdout",
     "output_type": "stream",
     "text": [
      "产量:  3000\n",
      "效率:  0.95\n",
      "质量:  0.95\n"
     ]
    }
   ],
   "source": [
    "KPI = ['产量', '效率', '质量']\n",
    "measurements = [3000, 0.95, 0.95]\n",
    "\n",
    "for kpi, measure in zip(KPI, measurements):\n",
    "    print(\"{}:  {}\".format(kpi, measure))"
   ]
  },
  {
   "cell_type": "code",
   "execution_count": 48,
   "metadata": {},
   "outputs": [
    {
     "name": "stdout",
     "output_type": "stream",
     "text": [
      "85.00%\n"
     ]
    }
   ],
   "source": [
    "print('%.2f%%' % (85))"
   ]
  },
  {
   "cell_type": "markdown",
   "metadata": {},
   "source": [
    "#### Unzip"
   ]
  },
  {
   "cell_type": "code",
   "execution_count": 51,
   "metadata": {},
   "outputs": [],
   "source": [
    "OEE = (('Jan', 0.87),('Feb', 0.82), ('Mar', 0.88), ('Apr', 0.67) )"
   ]
  },
  {
   "cell_type": "code",
   "execution_count": 54,
   "metadata": {},
   "outputs": [
    {
     "name": "stdout",
     "output_type": "stream",
     "text": [
      "('Jan', 'Feb', 'Mar', 'Apr') (0.87, 0.82, 0.88, 0.67)\n"
     ]
    }
   ],
   "source": [
    "month, rate = zip(*OEE)\n",
    "print(month, rate)"
   ]
  },
  {
   "cell_type": "markdown",
   "metadata": {},
   "source": [
    "#### Enumerate"
   ]
  },
  {
   "cell_type": "code",
   "execution_count": 56,
   "metadata": {},
   "outputs": [
    {
     "name": "stdout",
     "output_type": "stream",
     "text": [
      "['产量是3000', '效率是0.95', '质量是0.95']\n"
     ]
    }
   ],
   "source": [
    "\n",
    "KPI = ['产量', '效率', '质量']\n",
    "measurements = [3000, 0.95, 0.95]\n",
    "\n",
    "for i, kpi in enumerate(KPI):\n",
    "    KPI[i] = kpi + '是' + str(measurements[i])\n",
    "\n",
    "print(KPI)"
   ]
  },
  {
   "cell_type": "markdown",
   "metadata": {},
   "source": [
    "### List Comprehensions"
   ]
  },
  {
   "cell_type": "code",
   "execution_count": 32,
   "metadata": {},
   "outputs": [
    {
     "data": {
      "text/plain": [
       "[0, 4, 16, 36, 64]"
      ]
     },
     "execution_count": 32,
     "metadata": {},
     "output_type": "execute_result"
    }
   ],
   "source": [
    "#例1\n",
    "squares = [ x**2 for x in range(10) if x % 2 == 0]\n",
    "squares"
   ]
  },
  {
   "cell_type": "code",
   "execution_count": 26,
   "metadata": {},
   "outputs": [],
   "source": [
    "#例2\n",
    "productions = {'张佳': 88, '王子': 72, '李诞': 25, '冯力': 67, '卓玛': 70}\n",
    "\n",
    "qualified = [name for name, production in productions.items()  if production >= 70]\n",
    "print(qualified)"
   ]
  },
  {
   "cell_type": "code",
   "execution_count": null,
   "metadata": {},
   "outputs": [],
   "source": [
    "# ToDo: 请设计一个list comprehension的例子\n",
    "\n"
   ]
  }
 ],
 "metadata": {
  "kernelspec": {
   "display_name": "Python 3",
   "language": "python",
   "name": "python3"
  },
  "language_info": {
   "codemirror_mode": {
    "name": "ipython",
    "version": 3
   },
   "file_extension": ".py",
   "mimetype": "text/x-python",
   "name": "python",
   "nbconvert_exporter": "python",
   "pygments_lexer": "ipython3",
   "version": "3.7.0"
  }
 },
 "nbformat": 4,
 "nbformat_minor": 2
}
