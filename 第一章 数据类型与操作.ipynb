{
 "cells": [
  {
   "cell_type": "markdown",
   "metadata": {},
   "source": [
    "# 欢迎来到课程: 用Python分析工业大数据"
   ]
  },
  {
   "cell_type": "markdown",
   "metadata": {},
   "source": [
    "## 第一章 数据类型与操作"
   ]
  },
  {
   "cell_type": "code",
   "execution_count": null,
   "metadata": {},
   "outputs": [],
   "source": [
    "# 基本的算术操作: +, -, *, /, %, **, //\n",
    "\n",
    "#To Do: 设计一个算术操作并将结果赋值给变量， 并用print()输出\n"
   ]
  },
  {
   "cell_type": "code",
   "execution_count": null,
   "metadata": {},
   "outputs": [],
   "source": [
    "# 变量赋值\n",
    "# To Do: 用一行代码，分别给x赋值3， y赋值4， z赋值5\n"
   ]
  },
  {
   "cell_type": "code",
   "execution_count": 1,
   "metadata": {},
   "outputs": [],
   "source": [
    "# 熟悉一些Python中的keywords\n",
    "# True, False, None\n",
    "# and, or, not\n",
    "# if, elif, else, while, for, in, with, break, continue, yield\n",
    "# try, except, \n",
    "# import , as , from, asert\n",
    "# def, lambda, \n",
    "# raise, del"
   ]
  },
  {
   "cell_type": "code",
   "execution_count": null,
   "metadata": {},
   "outputs": [],
   "source": [
    "# 定义平均订单交付周期average lead time 是15天\n",
    "average_lead_time = 15\n",
    "# To Do: 平均订单交付周期延长了5天\n"
   ]
  },
  {
   "cell_type": "code",
   "execution_count": null,
   "metadata": {},
   "outputs": [],
   "source": [
    "#定义Integers 和Floats\n",
    "#例： x = int(4.7); y = float(4)\n",
    "# ToDo: "
   ]
  },
  {
   "cell_type": "code",
   "execution_count": null,
   "metadata": {},
   "outputs": [],
   "source": [
    "# Comparison Operators and Booleans比较操作和布尔值\n",
    "# >, >=, <, <=, ==, !=;\n",
    "# True, False\n",
    "# ToDo: 写一句比较操作语句，并输出\n"
   ]
  },
  {
   "cell_type": "code",
   "execution_count": null,
   "metadata": {},
   "outputs": [],
   "source": [
    "#Logical Operators逻辑操作\n",
    "# and, or , not\n",
    "# ToDo: 将比较操作和逻辑操作结合起来，并输出, 例：4<3 or 3==3\n"
   ]
  },
  {
   "cell_type": "code",
   "execution_count": null,
   "metadata": {},
   "outputs": [],
   "source": [
    "#Strings\n",
    "#ToDo: 定义Strings, 例如： a = 'GM''\n",
    "\n"
   ]
  },
  {
   "cell_type": "code",
   "execution_count": 5,
   "metadata": {},
   "outputs": [],
   "source": [
    "#ToDo: 模仿例子生成代码，例：the_string = \"This line\\'s productivity increased by 30% \"\n",
    "\n"
   ]
  },
  {
   "cell_type": "code",
   "execution_count": null,
   "metadata": {},
   "outputs": [],
   "source": [
    "# 了解string的长度\n",
    "#ToDo: 例如len('The order is delivered')\n"
   ]
  },
  {
   "cell_type": "code",
   "execution_count": null,
   "metadata": {},
   "outputs": [],
   "source": [
    "# 用print语句实现复杂的输出\n",
    "first_word = 'Hello'\n",
    "second_word = 'world'\n",
    "print(first_world + second_world)\n",
    "print(first_world + '  ' + second_world)\n",
    "# ToDo: 设计一个复杂输出的例子"
   ]
  },
  {
   "cell_type": "code",
   "execution_count": null,
   "metadata": {},
   "outputs": [],
   "source": [
    "#访问某个string中的元素\n",
    "#ToDo: 例：first_word[0]\n"
   ]
  },
  {
   "cell_type": "code",
   "execution_count": null,
   "metadata": {},
   "outputs": [],
   "source": [
    "# 用type() 函数了解数据类型\n",
    "#基本数据类型： int, float, bool, string\n",
    "#ToDo: 自行练习，例如：type(3==5)\n"
   ]
  },
  {
   "cell_type": "code",
   "execution_count": null,
   "metadata": {},
   "outputs": [],
   "source": [
    "# 类型的转化\n",
    "#ToDo:  \"0\" + \"5\", 0 + 5, \"0\" + 5, 看一下结果有何不同\n"
   ]
  },
  {
   "cell_type": "code",
   "execution_count": null,
   "metadata": {},
   "outputs": [],
   "source": [
    "# 关于Method与函数类似，对应某种数据类型\n",
    "# 例如：sample_string.lower()\n",
    "# 关于string的method, capitalize(), format(), islower(), isnumeric(), isdecimal(), issupper(),\n",
    "# index(), find(), count(), isspace(), join()等等\n",
    "#ToDo, 请尝试用不同的method\n"
   ]
  },
  {
   "cell_type": "code",
   "execution_count": 13,
   "metadata": {},
   "outputs": [],
   "source": [
    "#Method的重点练习1： format()\n",
    "#例子 1\n",
    "print(\"本月车间OEE达到了{}.\".format(\"85%\"))\n",
    "\n",
    "#例子 2\n",
    "workshop = \"Shop 1\"\n",
    "action = \"maintainence\"\n",
    "print(\"Does {} is on {}.\".format(workshop, action))\n",
    "\n",
    "#例子 3\n",
    "KPI_HR = \"HR部门的主要绩效指标为{} 和 {}\"\n",
    "print(KPI_HR.format(\"员工流失率\"， \"\"))"
   ]
  },
  {
   "cell_type": "code",
   "execution_count": 23,
   "metadata": {},
   "outputs": [],
   "source": [
    "#Method的重点练习2： split()\n",
    "\n",
    "new_str2 = ' leakage, deviation and erotion'"
   ]
  },
  {
   "cell_type": "code",
   "execution_count": 17,
   "metadata": {},
   "outputs": [
    {
     "data": {
      "text/plain": [
       "['频率最高的故障是漏油、检测超差和磨损']"
      ]
     },
     "execution_count": 17,
     "metadata": {},
     "output_type": "execute_result"
    }
   ],
   "source": [
    "new_str.split()"
   ]
  },
  {
   "cell_type": "code",
   "execution_count": 24,
   "metadata": {},
   "outputs": [
    {
     "data": {
      "text/plain": [
       "['leakage,', 'deviation', 'and', 'erotion']"
      ]
     },
     "execution_count": 24,
     "metadata": {},
     "output_type": "execute_result"
    }
   ],
   "source": [
    "new_str2.split()"
   ]
  },
  {
   "cell_type": "code",
   "execution_count": 32,
   "metadata": {},
   "outputs": [],
   "source": [
    "import re\n",
    "\n",
    "new_str = \"漏油、检测超差和磨损\""
   ]
  },
  {
   "cell_type": "code",
   "execution_count": 31,
   "metadata": {},
   "outputs": [
    {
     "data": {
      "text/plain": [
       "['漏油', '检测超差', '磨损']"
      ]
     },
     "execution_count": 31,
     "metadata": {},
     "output_type": "execute_result"
    }
   ],
   "source": [
    "re.split('[、和]', new_str)"
   ]
  },
  {
   "cell_type": "code",
   "execution_count": null,
   "metadata": {},
   "outputs": [],
   "source": [
    "# List 的定义\n",
    "defect_type = [ ] # or defect_type = list()\n",
    "# ToDo: 定义一个list\n"
   ]
  },
  {
   "cell_type": "code",
   "execution_count": null,
   "metadata": {},
   "outputs": [],
   "source": [
    "# ToDo: 了解list的元素数量， 例：len(list_sample)\n"
   ]
  },
  {
   "cell_type": "code",
   "execution_count": 45,
   "metadata": {},
   "outputs": [],
   "source": [
    "# List 切片\n",
    "product_quality = ['visual inspection','dimention', 'performance']\n",
    "# ToDo: 选择list的第二个元素\n",
    "\n",
    "# ToDo: 选择前两个元素\n"
   ]
  },
  {
   "cell_type": "code",
   "execution_count": 54,
   "metadata": {},
   "outputs": [],
   "source": [
    "#List 切片\n",
    "order_date = ['September 1, 2008', 'July 25, 2009', 'April 8, 2010',\n",
    "                 'May 11, 2011', 'November 06, 2012', 'June 20, 2015',\n",
    "                 'March 6, 2017']\n",
    "# ToDO: 分别选择最近的三个订单日期和其他订单日期， about the usage of '-3'\n"
   ]
  },
  {
   "cell_type": "code",
   "execution_count": 50,
   "metadata": {},
   "outputs": [],
   "source": [
    "# List的常用方法： in OR not in\n",
    "Top3_employees = [\"小王\", \"大张\",  \"老李\"]\n",
    "\n",
    "# ToDo: \"小葛\"是否是最佳员工呢？\n"
   ]
  },
  {
   "cell_type": "code",
   "execution_count": null,
   "metadata": {},
   "outputs": [],
   "source": [
    "# List的修改\n",
    "#ToDo: \"小葛\"替代\"小王\"成为最佳员工之一\n"
   ]
  },
  {
   "cell_type": "code",
   "execution_count": null,
   "metadata": {},
   "outputs": [],
   "source": [
    "# LIst：可修改； String不可修改\n",
    "# ToDo: \n"
   ]
  },
  {
   "cell_type": "code",
   "execution_count": 51,
   "metadata": {},
   "outputs": [],
   "source": [
    "# Tuple 数据类型\n",
    "tuple_1 = 10, 20\n",
    "tuple_2 = (10, 20)\n",
    "# ToDo: 比较tuple_1 与 tuple_2 是否相同\n"
   ]
  },
  {
   "cell_type": "code",
   "execution_count": 65,
   "metadata": {},
   "outputs": [],
   "source": [
    "# set 数据类型\n",
    "list_a = [1,2,3,4]\n",
    "list_a.append(5)\n",
    "\n",
    "set_a = set(list_a)\n",
    "set_a.add(5)\n"
   ]
  },
  {
   "cell_type": "code",
   "execution_count": null,
   "metadata": {},
   "outputs": [],
   "source": [
    "# 删除最后一个元素\n",
    "list_a.pop()\n",
    "\n",
    "set_a.pop()\n"
   ]
  },
  {
   "cell_type": "code",
   "execution_count": 95,
   "metadata": {},
   "outputs": [
    {
     "data": {
      "text/plain": [
       "30"
      ]
     },
     "execution_count": 95,
     "metadata": {},
     "output_type": "execute_result"
    }
   ],
   "source": [
    "# Dictionary的定义： Dict = {key1:value1, key2:value2, ...}\n",
    "\n",
    "plant_KPIs =  {\"production\": 30,\"on_time_delivery\": 0.85, \"product_quality\": 0.95, \"cost_saving\":3000 } \n",
    "plant_KPIs['production']\n",
    "\n",
    "# ToDo: 定义一个dictionatires的变量\n",
    "# 设计一个记录设备OEE的Dict\n",
    "#    Key        I                Value\n",
    "#  Line1        |      0.76，0.77， 0.74 \n",
    "#  Line2       |      0.58， 0.62， 0.47\n",
    "#  Line3       |      0.73， 0.70， 0.70\n",
    "#  Line4       |      0.81， 0.88， 0.84\n"
   ]
  },
  {
   "cell_type": "code",
   "execution_count": 102,
   "metadata": {},
   "outputs": [],
   "source": [
    "# Dictionaries的操作， is 和 is not\n",
    "# print(\"Is on_time_delivery a plant KPI?  {}\". format( 'on_time_delivery' in plant_KPIs))\n",
    "# ToDo: 模仿上述语句\n",
    "\n",
    "# ToDo: 写语句，输出：工厂今年的成本节约达到了3000万元 \n"
   ]
  },
  {
   "cell_type": "code",
   "execution_count": 105,
   "metadata": {},
   "outputs": [],
   "source": [
    "# Dictionary的get 操作\n",
    "# print(plant_KPIs.get(\"cost\"))\n",
    "# ToDo: 练习Dictionary的get用法\n"
   ]
  },
  {
   "cell_type": "code",
   "execution_count": 106,
   "metadata": {},
   "outputs": [],
   "source": [
    "# 数据结构的复合形式\n",
    "plant = {\"stamping\": {\"production\": 25, \"inventory\": 3.5,  \"FTY\": 0.98 },\n",
    "            \"assembly\": {\"production\": 26.5, \"inventory\": 0.5, \"FTY\": 0.95 },\n",
    "            \"painting\": {\"production\": 26.5, \"inventory\": 0.8, \"FTY\": 0.99 }}\n",
    "\n",
    "# ToDo: 工厂装配车间的质量指数是多少？\n",
    "\n",
    "#ToDo: 漏了一个焊接车间的数据， 产量26， 库存：0天， 一次合格率：0.93, 请补上\n"
   ]
  },
  {
   "cell_type": "code",
   "execution_count": null,
   "metadata": {},
   "outputs": [],
   "source": []
  },
  {
   "cell_type": "code",
   "execution_count": null,
   "metadata": {},
   "outputs": [],
   "source": []
  },
  {
   "cell_type": "code",
   "execution_count": null,
   "metadata": {},
   "outputs": [],
   "source": []
  }
 ],
 "metadata": {
  "kernelspec": {
   "display_name": "Python 3",
   "language": "python",
   "name": "python3"
  },
  "language_info": {
   "codemirror_mode": {
    "name": "ipython",
    "version": 3
   },
   "file_extension": ".py",
   "mimetype": "text/x-python",
   "name": "python",
   "nbconvert_exporter": "python",
   "pygments_lexer": "ipython3",
   "version": "3.7.0"
  }
 },
 "nbformat": 4,
 "nbformat_minor": 2
}
